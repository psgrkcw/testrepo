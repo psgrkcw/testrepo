{
  "metadata": {
    "kernelspec": {
      "name": "python",
      "display_name": "Pyolite",
      "language": "python"
    },
    "language_info": {
      "codemirror_mode": {
        "name": "python",
        "version": 3
      },
      "file_extension": ".py",
      "mimetype": "text/x-python",
      "name": "python",
      "nbconvert_exporter": "python",
      "pygments_lexer": "ipython3",
      "version": "3.8"
    }
  },
  "nbformat_minor": 4,
  "nbformat": 4,
  "cells": [
    {
      "cell_type": "markdown",
      "source": "# <a>\"My Jupyter Notebook on IBM Watson Studio\"</a>",
      "metadata": {}
    },
    {
      "cell_type": "markdown",
      "source": "<a>Prathiksha</a>",
      "metadata": {}
    },
    {
      "cell_type": "markdown",
      "source": "<a>I am interested in data science because I love to gain insights from data<a>",
      "metadata": {}
    },
    {
      "cell_type": "markdown",
      "source": "# <a>The following code tests the Gauss formula<a>",
      "metadata": {}
    },
    {
      "cell_type": "code",
      "source": "def gauss(n):\n    return (n*(n+1))/2\ngauss(100)==sum(range(101))",
      "metadata": {
        "trusted": true
      },
      "execution_count": 8,
      "outputs": [
        {
          "execution_count": 8,
          "output_type": "execute_result",
          "data": {
            "text/plain": "True"
          },
          "metadata": {}
        }
      ]
    },
    {
      "cell_type": "markdown",
      "source": "| header|",
      "metadata": {}
    },
    {
      "cell_type": "code",
      "source": "",
      "metadata": {},
      "execution_count": null,
      "outputs": []
    }
  ]
}